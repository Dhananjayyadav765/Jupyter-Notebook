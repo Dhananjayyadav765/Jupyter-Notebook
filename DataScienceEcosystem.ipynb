{
 "cells": [
  {
   "cell_type": "markdown",
   "id": "ecf73fb2-9de1-470b-90bb-b379c60428e4",
   "metadata": {},
   "source": [
    "\n",
    "<H1>Data Science Tools and Ecosystem</H1>"
   ]
  },
  {
   "cell_type": "markdown",
   "id": "5a52dfea-199e-4db4-9086-b38f8641170c",
   "metadata": {},
   "source": [
    "In this notebook, Data Science Tools and Ecosystem are summarized."
   ]
  },
  {
   "cell_type": "markdown",
   "id": "c1ffbcb1-bf09-47c3-802e-48476dacbcb1",
   "metadata": {},
   "source": [
    "**Objectives:**\n",
    " - List popular languages for Data Science.\n",
    " - List popular libraries used for data science\n",
    " - Open source tools used for data science.\n",
    " - Learn using arithmetic operations.\n",
    " - Learn to create table in jupyter notebook.\n",
    "   \n"
   ]
  },
  {
   "cell_type": "markdown",
   "id": "69e3442a-bf41-4f46-a7e3-d478a7d1a7e5",
   "metadata": {},
   "source": [
    "Some of the popular languages that Data Scientists use are:\n",
    "1.Python\n",
    "2.Java\n",
    "3.R"
   ]
  },
  {
   "cell_type": "markdown",
   "id": "42d5a1b1-d164-4e3a-9d0a-be195b0382ad",
   "metadata": {},
   "source": [
    "Some of the commonly used libraries used by Data Scientists include:\n",
    "1.Numpy\n",
    "2.Pandas\n",
    "3.Matplotlib\n",
    "4.Seaborn\n",
    "5.Sckit-learn"
   ]
  },
  {
   "cell_type": "markdown",
   "id": "e53ba510-ce9d-4a9e-9ddd-b1204811e957",
   "metadata": {},
   "source": [
    "|Data Science Tools|\n",
    "-----\n",
    "Hadoop\n",
    "Neo4j\n",
    "Knime\n",
    "\n"
   ]
  },
  {
   "cell_type": "markdown",
   "id": "d303cfeb-0cba-44b9-9d07-d55d8c40f50a",
   "metadata": {},
   "source": [
    "<h3>Below are a few examples of evaluating arithmetic expressions in Python</h3>\n"
   ]
  },
  {
   "cell_type": "code",
   "execution_count": 7,
   "id": "47cfe80a-1631-4690-accb-dda37b890ec5",
   "metadata": {},
   "outputs": [
    {
     "name": "stdout",
     "output_type": "stream",
     "text": [
      "17\n"
     ]
    }
   ],
   "source": [
    "print((3*4)+5)\n",
    "#This a simple arithmetic expression to mutiply then add integers."
   ]
  },
  {
   "cell_type": "code",
   "execution_count": 9,
   "id": "af9bd197-d367-4984-a7c0-00ad4c7c9424",
   "metadata": {},
   "outputs": [
    {
     "name": "stdout",
     "output_type": "stream",
     "text": [
      "3.3333333333333335\n"
     ]
    }
   ],
   "source": [
    "print((200)/60)\n",
    "# This will convert 200 minutes to hours by diving by 60."
   ]
  },
  {
   "cell_type": "markdown",
   "id": "a047cb04-00ed-472f-b385-89eef9a06563",
   "metadata": {},
   "source": [
    "<h2>Author</h2>\n",
    "Dhananjay YAdav"
   ]
  },
  {
   "cell_type": "code",
   "execution_count": null,
   "id": "5b6b4a01-0118-4f66-9d7d-bc34922ddf9e",
   "metadata": {},
   "outputs": [],
   "source": []
  }
 ],
 "metadata": {
  "kernelspec": {
   "display_name": "Python 3 (ipykernel)",
   "language": "python",
   "name": "python3"
  },
  "language_info": {
   "codemirror_mode": {
    "name": "ipython",
    "version": 3
   },
   "file_extension": ".py",
   "mimetype": "text/x-python",
   "name": "python",
   "nbconvert_exporter": "python",
   "pygments_lexer": "ipython3",
   "version": "3.11.4"
  }
 },
 "nbformat": 4,
 "nbformat_minor": 5
}
